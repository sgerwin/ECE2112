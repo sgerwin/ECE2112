{
 "cells": [
  {
   "cell_type": "markdown",
   "id": "4918676a",
   "metadata": {},
   "source": [
    "# EXPERIMENT 1: INTRODUCTION TO PYTHON PROGRAMMING\n",
    "#### Mapaye, Sherwin Miguel C."
   ]
  },
  {
   "cell_type": "markdown",
   "id": "f051d82a",
   "metadata": {},
   "source": [
    "### ALPHABET SOUP PROBLEM: Create a function that takes a string and returns a string with its letters in alphabetical order."
   ]
  },
  {
   "cell_type": "code",
   "execution_count": 1,
   "id": "aa712ca9",
   "metadata": {},
   "outputs": [
    {
     "name": "stdout",
     "output_type": "stream",
     "text": [
      "Enter the word:hacker\n",
      "acehkr\n"
     ]
    }
   ],
   "source": [
    "#Input of word\n",
    "word = input(\"Enter the word:\")\n",
    "\n",
    "#function sorts the word alphabetically\n",
    "alphabet_soup = \"\".join(sorted(word))\n",
    "\n",
    "#Output\n",
    "print(alphabet_soup)"
   ]
  },
  {
   "cell_type": "markdown",
   "id": "85eaeeef",
   "metadata": {},
   "source": [
    "### EMOTICON PROBLEM: Create a function that changes specific words into emoticons. Given a sentence as a string, replace the words smile, grin, sad and mad with their corresponding emoticon:"
   ]
  },
  {
   "cell_type": "code",
   "execution_count": 2,
   "id": "34e5b593",
   "metadata": {},
   "outputs": [
    {
     "name": "stdout",
     "output_type": "stream",
     "text": [
      "Enter sentence: i am smile and mad\n",
      "i am :) and >:(\n"
     ]
    }
   ],
   "source": [
    "#function that replaces words with emoticon\n",
    "def emotify(sentence):\n",
    "    if(\"smile\" in sentence):\n",
    "        sentence=sentence.replace(\"smile\",\":)\")\n",
    "    if(\"grin\" in sentence):\n",
    "        sentence=sentence.replace(\"grin\",\":D\")\n",
    "    if(\"sad\" in sentence):\n",
    "        sentence=sentence.replace(\"sad\",\":((\")\n",
    "    if(\"mad\" in sentence):\n",
    "        sentence=sentence.replace(\"mad\",\">:(\")\n",
    "        \n",
    "    print(sentence)\n",
    "    \n",
    "#Input (function where you type the sentence including the emoticon)\n",
    "def main():\n",
    "    output = input(\"Enter sentence: \")\n",
    "    emotify(output)\n",
    "\n",
    "#Output (changes the words into emoticon)\n",
    "main()"
   ]
  },
  {
   "cell_type": "markdown",
   "id": "642791e4",
   "metadata": {},
   "source": [
    "### UNPACKING LIST PROBLEM: Unpack the list writeyourcodehere into three variables, being first,middle, and last, with middle being everything in between the first and last element. Then print all three variables."
   ]
  },
  {
   "cell_type": "code",
   "execution_count": 3,
   "id": "0968ce3c",
   "metadata": {},
   "outputs": [
    {
     "name": "stdout",
     "output_type": "stream",
     "text": [
      "Enter the no. of elements in the list: 6\n",
      "Enter the values of the list: 1\n",
      "Enter the values of the list: 2\n",
      "Enter the values of the list: 3\n",
      "Enter the values of the list: 4\n",
      "Enter the values of the list: 5\n",
      "Enter the values of the list: 6\n",
      "First:  1\n",
      "Middle:  [2, 3, 4, 5]\n",
      "Last:  6\n"
     ]
    }
   ],
   "source": [
    "#input of values\n",
    "writeyourcodehere = []\n",
    "n = int(input(\"Enter the no. of elements in the list: \"))\n",
    "for i in range(0,n):\n",
    "    x = int(input(\"Enter the values of the list: \"))\n",
    "    writeyourcodehere.append(x)\n",
    "\n",
    "#stores the values depending if first, middle ,last using index\n",
    "first = writeyourcodehere[0]\n",
    "middle = writeyourcodehere[1:n-1]\n",
    "last = writeyourcodehere[-1]\n",
    "\n",
    "#Output\n",
    "print(\"First: \", first)\n",
    "print(\"Middle: \", middle)\n",
    "print(\"Last: \", last)"
   ]
  }
 ],
 "metadata": {
  "kernelspec": {
   "display_name": "Python 3 (ipykernel)",
   "language": "python",
   "name": "python3"
  },
  "language_info": {
   "codemirror_mode": {
    "name": "ipython",
    "version": 3
   },
   "file_extension": ".py",
   "mimetype": "text/x-python",
   "name": "python",
   "nbconvert_exporter": "python",
   "pygments_lexer": "ipython3",
   "version": "3.11.4"
  }
 },
 "nbformat": 4,
 "nbformat_minor": 5
}
