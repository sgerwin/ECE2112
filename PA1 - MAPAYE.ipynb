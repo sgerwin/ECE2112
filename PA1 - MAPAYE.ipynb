{
 "cells": [
  {
   "cell_type": "code",
   "execution_count": 5,
   "id": "aa712ca9",
   "metadata": {},
   "outputs": [
    {
     "name": "stdout",
     "output_type": "stream",
     "text": [
      "Enter the word:\n",
      "\n"
     ]
    }
   ],
   "source": [
    "#Input of word\n",
    "word = input(\"Enter the word:\")\n",
    "\n",
    "#function sorts the word alphabetically\n",
    "alphabet_soup = \"\".join(sorted(word))\n",
    "\n",
    "#Output\n",
    "print(alphabet_soup)"
   ]
  },
  {
   "cell_type": "code",
   "execution_count": 2,
   "id": "34e5b593",
   "metadata": {},
   "outputs": [
    {
     "name": "stdout",
     "output_type": "stream",
     "text": [
      "Enter sentence: i am smile\n",
      "i am :)\n"
     ]
    }
   ],
   "source": [
    "#function that replaces words with emoticon\n",
    "def emotify(sentence):\n",
    "    if(\"smile\" in sentence):\n",
    "        sentence=sentence.replace(\"smile\",\":)\")\n",
    "    if(\"grin\" in sentence):\n",
    "        sentence=sentence.replace(\"grin\",\":D\")\n",
    "    if(\"sad\" in sentence):\n",
    "        sentence=sentence.replace(\"sad\",\":((\")\n",
    "    if(\"mad\" in sentence):\n",
    "        sentence=sentence.replace(\"mad\",\">:(\")\n",
    "        \n",
    "    print(sentence)\n",
    "    \n",
    "#Input (function where you type the sentence including the emoticon)\n",
    "def main():\n",
    "    output = input(\"Enter sentence: \")\n",
    "    emotify(output)\n",
    "#Output (changes the words into emoticon)\n",
    "main()"
   ]
  },
  {
   "cell_type": "code",
   "execution_count": 6,
   "id": "0968ce3c",
   "metadata": {},
   "outputs": [
    {
     "name": "stdout",
     "output_type": "stream",
     "text": [
      "Enter the no. of elements in the list: 5\n",
      "Enter the values of the list: 1\n",
      "Enter the values of the list: 2\n",
      "Enter the values of the list: 3\n",
      "Enter the values of the list: 4\n",
      "Enter the values of the list: 5\n",
      "First:  1\n",
      "Middle:  [2, 3, 4]\n",
      "Last:  5\n"
     ]
    }
   ],
   "source": [
    "#input of values\n",
    "writeyourcodehere = []\n",
    "n = int(input(\"Enter the no. of elements in the list: \"))\n",
    "for i in range(0,n):\n",
    "    x = int(input(\"Enter the values of the list: \"))\n",
    "    writeyourcodehere.append(x)\n",
    "\n",
    "#stores the values depending if first, middle ,last using index\n",
    "first = writeyourcodehere[0]\n",
    "middle = writeyourcodehere[1:n-1]\n",
    "last = writeyourcodehere[-1]\n",
    "\n",
    "#Output\n",
    "print(\"First: \", first)\n",
    "print(\"Middle: \", middle)\n",
    "print(\"Last: \", last)"
   ]
  },
  {
   "cell_type": "code",
   "execution_count": null,
   "id": "86f88c16",
   "metadata": {},
   "outputs": [],
   "source": []
  }
 ],
 "metadata": {
  "kernelspec": {
   "display_name": "Python 3 (ipykernel)",
   "language": "python",
   "name": "python3"
  },
  "language_info": {
   "codemirror_mode": {
    "name": "ipython",
    "version": 3
   },
   "file_extension": ".py",
   "mimetype": "text/x-python",
   "name": "python",
   "nbconvert_exporter": "python",
   "pygments_lexer": "ipython3",
   "version": "3.11.4"
  }
 },
 "nbformat": 4,
 "nbformat_minor": 5
}
